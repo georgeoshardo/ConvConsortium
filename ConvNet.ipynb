{
 "cells": [
  {
   "cell_type": "code",
   "execution_count": 1,
   "metadata": {},
   "outputs": [
    {
     "name": "stderr",
     "output_type": "stream",
     "text": [
      "Using TensorFlow backend.\n"
     ]
    }
   ],
   "source": [
    "from keras.layers.convolutional import Conv2D, MaxPooling2D, Conv1D\n",
    "from keras.layers.core import Dense, Flatten, Masking, Activation\n",
    "from keras.utils import to_categorical\n",
    "import keras\n",
    "from keras.layers import Embedding, GlobalAveragePooling1D, Dropout\n",
    "from keras.models import Sequential\n",
    "from keras.callbacks import EarlyStopping, History\n",
    "\n",
    "\n",
    "import numpy as np\n",
    "from sklearn.metrics import roc_curve, auc, average_precision_score\n",
    "from sklearn.preprocessing import MinMaxScaler\n",
    "from sklearn.model_selection import train_test_split\n",
    "\n",
    "#from helper import IOHelper, SequenceHelper\n",
    "\n",
    "import random\n",
    "random.seed(1234)\n",
    "\n",
    "import pandas as pd\n",
    "\n",
    "import os\n",
    "\n",
    "import matplotlib.pyplot as plt\n",
    "\n",
    "import scipy\n",
    "\n",
    "import seaborn as sns\n",
    "\n",
    "from itertools import permutations\n",
    "\n",
    "import logomaker\n"
   ]
  },
  {
   "cell_type": "code",
   "execution_count": 2,
   "metadata": {},
   "outputs": [],
   "source": [
    "data = pd.read_csv(\"fullmodeldata.txt\", sep = \"\\t\")\n",
    "data = data.groupby(np.arange(len(data))//3).mean()"
   ]
  },
  {
   "cell_type": "code",
   "execution_count": 8,
   "metadata": {},
   "outputs": [],
   "source": [
    "scaler = MinMaxScaler(feature_range=(0,1))\n",
    "scaler.fit(np.array(data[\"ratefactor\"]).reshape(-1,1))\n",
    "data[\"ratefactor\"] = scaler.transform(np.array(data[\"ratefactor\"]).reshape(-1,1))"
   ]
  },
  {
   "cell_type": "code",
   "execution_count": 9,
   "metadata": {},
   "outputs": [],
   "source": [
    "scaler = MinMaxScaler(feature_range=(0,1))\n",
    "scaler.fit(np.array(data[\"yieldfactor\"]).reshape(-1,1))\n",
    "data[\"yieldfactor\"] = scaler.transform(np.array(data[\"yieldfactor\"]).reshape(-1,1))"
   ]
  },
  {
   "cell_type": "code",
   "execution_count": 10,
   "metadata": {},
   "outputs": [
    {
     "data": {
      "text/plain": [
       "Index(['p1', 'p4', 'p7', 'p8', 'p10', 'p13'], dtype='object')"
      ]
     },
     "execution_count": 10,
     "metadata": {},
     "output_type": "execute_result"
    }
   ],
   "source": [
    "species = data.columns[7:13]\n",
    "species"
   ]
  },
  {
   "cell_type": "code",
   "execution_count": 11,
   "metadata": {},
   "outputs": [],
   "source": [
    "vectors = np.zeros((6,6))\n",
    "for x in range(6):\n",
    "    vectors[x][x] = 1"
   ]
  },
  {
   "cell_type": "code",
   "execution_count": 12,
   "metadata": {},
   "outputs": [],
   "source": [
    "one_hot_encoded_data = []\n",
    "for y in range(len(data)):\n",
    "    one_hot_encoded_consortium = []\n",
    "    for x in range(6):\n",
    "        if data[species].iloc[y,x] == 1:\n",
    "            one_hot_encoded_consortium.append(vectors[x])\n",
    "        else:\n",
    "            one_hot_encoded_consortium.append([0.0, 0.0, 0.0, 0.0, 0.0, 0.0])\n",
    "    one_hot_encoded_data.append(np.array(one_hot_encoded_consortium))"
   ]
  },
  {
   "cell_type": "code",
   "execution_count": 13,
   "metadata": {},
   "outputs": [],
   "source": [
    "model_data = []\n",
    "rate_factors = []\n",
    "yield_factors = []\n",
    "for x in range(len(one_hot_encoded_data)):\n",
    "    consortium_permutations = list(permutations(one_hot_encoded_data[x]))\n",
    "    model_data.append(consortium_permutations)\n",
    "    for y in range(720):\n",
    "        rate_factors.append(data[\"ratefactor\"][x])\n",
    "        yield_factors.append(data[\"yieldfactor\"][x])\n",
    "\n",
    "model_data = np.array(model_data)"
   ]
  },
  {
   "cell_type": "code",
   "execution_count": 14,
   "metadata": {},
   "outputs": [],
   "source": [
    "model_data_reshaped = []\n",
    "for x in range(len(model_data)):\n",
    "    for y in range(len(model_data[x])):\n",
    "        model_data_reshaped.append(model_data[x][y])\n",
    "model_data_reshaped = np.array(model_data_reshaped)"
   ]
  },
  {
   "cell_type": "code",
   "execution_count": 15,
   "metadata": {},
   "outputs": [],
   "source": [
    "x_train, x_test, y_train, y_test = train_test_split(model_data_reshaped, rate_factors, test_size=0.1, random_state = 4)"
   ]
  },
  {
   "cell_type": "markdown",
   "metadata": {},
   "source": [
    "# Hyperparameter search to find best model architecture"
   ]
  },
  {
   "cell_type": "code",
   "execution_count": null,
   "metadata": {},
   "outputs": [],
   "source": [
    "r2_list = []\n",
    "for kernel_length in [1, 2, 3]:\n",
    "    for conv_filters in [5, 10, 15, 20]:\n",
    "        for dense_nodes in [20, 30, 40, 60, 80, 100]:\n",
    "            kernel_length=kernel_length\n",
    "            conv_filters=conv_filters\n",
    "            hot_dim=6\n",
    "            model = Sequential()\n",
    "\n",
    "            model.add(Conv1D(conv_filters, padding='same', input_shape=(x_train.shape[1], hot_dim), kernel_size=kernel_length))\n",
    "            model.add(Activation('relu'))\n",
    "            #model.add(Dropout(0.2))\n",
    "\n",
    "            #model.add(Conv1D(conv_filters, padding='same', input_shape=(x_train.shape[1], 1), kernel_size=kernel_length))\n",
    "            #model.add(Activation('relu'))\n",
    "            #model.add(Dropout(0.2))\n",
    "\n",
    "            #model.add(Conv1D(conv_filters, padding='same', input_shape=(x_train.shape[1], 1), kernel_size=kernel_length))\n",
    "            #model.add(Activation('relu'))\n",
    "            #model.add(Dropout(0.2))\n",
    "\n",
    "            model.add(Flatten())\n",
    "            #model.add(Dense(128, activation=\"relu\"))\n",
    "            #model.add(Dropout(0.2))\n",
    "            model.add(Dense(dense_nodes, activation=\"relu\"))\n",
    "            model.add(Dropout(0.2))\n",
    "            #model.add(Dense(16, activation=\"relu\"))\n",
    "            model.add(Dense(1, activation='linear'))\n",
    "\n",
    "            model.compile(loss='mean_squared_error', optimizer='adam',metrics=[\"accuracy\", \"mae\", \"mse\"])\n",
    "\n",
    "            batch_size=150\n",
    "            epochs=100\n",
    "\n",
    "            history=model.fit(x_train, y_train, \n",
    "                              batch_size=batch_size, \n",
    "                              epochs=epochs, \n",
    "                              verbose=1, \n",
    "                              validation_split = 0.15, \n",
    "                              shuffle=True,\n",
    "                             callbacks=[EarlyStopping(patience=2 ,restore_best_weights=True),History()])\n",
    "\n",
    "            predictions=model.predict(x_test)\n",
    "\n",
    "            r2 = scipy.stats.pearsonr(np.array(y_test).ravel(), predictions.ravel())[0]**2\n",
    "            r2_list.append([r2, kernel_length, conv_filters, dense_nodes])"
   ]
  },
  {
   "cell_type": "code",
   "execution_count": null,
   "metadata": {},
   "outputs": [],
   "source": [
    "r2_list = pd.DataFrame(r2_list)"
   ]
  },
  {
   "cell_type": "code",
   "execution_count": null,
   "metadata": {
    "scrolled": true
   },
   "outputs": [],
   "source": [
    "r2_list.sort_values(by=0, ascending = False)"
   ]
  },
  {
   "cell_type": "markdown",
   "metadata": {},
   "source": [
    "# Test best model (s)\n",
    "\n",
    "Model with fewest filters for best R^2 tested (kernel length = 1, 10 filters, 100 dense nodes)\n",
    "Really kernel length should be 1 because convolving a 6x1 over a 6x6 one-hot-encoded matrix is the same as convolving the filter over a 6x1 position weight matrix of the consortium itself"
   ]
  },
  {
   "cell_type": "code",
   "execution_count": 16,
   "metadata": {},
   "outputs": [
    {
     "name": "stdout",
     "output_type": "stream",
     "text": [
      "_________________________________________________________________\n",
      "Layer (type)                 Output Shape              Param #   \n",
      "=================================================================\n",
      "conv1d_1 (Conv1D)            (None, 6, 10)             70        \n",
      "_________________________________________________________________\n",
      "activation_1 (Activation)    (None, 6, 10)             0         \n",
      "_________________________________________________________________\n",
      "flatten_1 (Flatten)          (None, 60)                0         \n",
      "_________________________________________________________________\n",
      "dense_1 (Dense)              (None, 100)               6100      \n",
      "_________________________________________________________________\n",
      "dropout_1 (Dropout)          (None, 100)               0         \n",
      "_________________________________________________________________\n",
      "dense_2 (Dense)              (None, 1)                 101       \n",
      "=================================================================\n",
      "Total params: 6,271\n",
      "Trainable params: 6,271\n",
      "Non-trainable params: 0\n",
      "_________________________________________________________________\n"
     ]
    }
   ],
   "source": [
    "kernel_length=1\n",
    "conv_filters=10\n",
    "hot_dim=6\n",
    "model = Sequential()\n",
    "\n",
    "model.add(Conv1D(conv_filters, padding='same', input_shape=(x_train.shape[1], hot_dim), kernel_size=kernel_length))\n",
    "model.add(Activation('relu'))\n",
    "#model.add(Dropout(0.2))\n",
    "\n",
    "#model.add(Conv1D(conv_filters, padding='same', input_shape=(x_train.shape[1], 1), kernel_size=kernel_length))\n",
    "#model.add(Activation('relu'))\n",
    "#model.add(Dropout(0.2))\n",
    "\n",
    "#model.add(Conv1D(conv_filters, padding='same', input_shape=(x_train.shape[1], 1), kernel_size=kernel_length))\n",
    "#model.add(Activation('relu'))\n",
    "#model.add(Dropout(0.2))\n",
    "\n",
    "model.add(Flatten())\n",
    "#model.add(Dense(128, activation=\"relu\"))\n",
    "#model.add(Dropout(0.2))\n",
    "model.add(Dense(100, activation=\"relu\"))\n",
    "model.add(Dropout(0.2))\n",
    "#model.add(Dense(16, activation=\"relu\"))\n",
    "model.add(Dense(1, activation='linear'))\n",
    "\n",
    "model.compile(loss='mean_squared_error', optimizer='adam',metrics=[\"accuracy\", \"mae\", \"mse\"])\n",
    "\n",
    "model.summary()"
   ]
  },
  {
   "cell_type": "code",
   "execution_count": 17,
   "metadata": {
    "scrolled": true
   },
   "outputs": [
    {
     "name": "stdout",
     "output_type": "stream",
     "text": [
      "Train on 31946 samples, validate on 5638 samples\n",
      "Epoch 1/50\n",
      "31946/31946 [==============================] - 2s 63us/step - loss: 0.0264 - acc: 0.0170 - mean_absolute_error: 0.1134 - mean_squared_error: 0.0264 - val_loss: 0.0146 - val_acc: 0.0172 - val_mean_absolute_error: 0.0775 - val_mean_squared_error: 0.0146\n",
      "Epoch 2/50\n",
      "31946/31946 [==============================] - 1s 18us/step - loss: 0.0162 - acc: 0.0172 - mean_absolute_error: 0.0864 - mean_squared_error: 0.0162 - val_loss: 0.0130 - val_acc: 0.0172 - val_mean_absolute_error: 0.0769 - val_mean_squared_error: 0.0130\n",
      "Epoch 3/50\n",
      "31946/31946 [==============================] - 1s 18us/step - loss: 0.0146 - acc: 0.0176 - mean_absolute_error: 0.0817 - mean_squared_error: 0.0146 - val_loss: 0.0119 - val_acc: 0.0172 - val_mean_absolute_error: 0.0738 - val_mean_squared_error: 0.0119\n",
      "Epoch 4/50\n",
      "31946/31946 [==============================] - 1s 17us/step - loss: 0.0131 - acc: 0.0208 - mean_absolute_error: 0.0782 - mean_squared_error: 0.0131 - val_loss: 0.0109 - val_acc: 0.0186 - val_mean_absolute_error: 0.0706 - val_mean_squared_error: 0.0109\n",
      "Epoch 5/50\n",
      "31946/31946 [==============================] - 1s 18us/step - loss: 0.0118 - acc: 0.0272 - mean_absolute_error: 0.0751 - mean_squared_error: 0.0118 - val_loss: 0.0093 - val_acc: 0.0319 - val_mean_absolute_error: 0.0684 - val_mean_squared_error: 0.0093\n",
      "Epoch 6/50\n",
      "31946/31946 [==============================] - 1s 18us/step - loss: 0.0100 - acc: 0.0328 - mean_absolute_error: 0.0720 - mean_squared_error: 0.0100 - val_loss: 0.0071 - val_acc: 0.0319 - val_mean_absolute_error: 0.0633 - val_mean_squared_error: 0.0071\n",
      "Epoch 7/50\n",
      "31946/31946 [==============================] - 1s 18us/step - loss: 0.0071 - acc: 0.0345 - mean_absolute_error: 0.0639 - mean_squared_error: 0.0071 - val_loss: 0.0048 - val_acc: 0.0319 - val_mean_absolute_error: 0.0533 - val_mean_squared_error: 0.0048\n",
      "Epoch 8/50\n",
      "31946/31946 [==============================] - 1s 18us/step - loss: 0.0054 - acc: 0.0345 - mean_absolute_error: 0.0568 - mean_squared_error: 0.0054 - val_loss: 0.0038 - val_acc: 0.0319 - val_mean_absolute_error: 0.0488 - val_mean_squared_error: 0.0038\n",
      "Epoch 9/50\n",
      "31946/31946 [==============================] - 1s 18us/step - loss: 0.0046 - acc: 0.0345 - mean_absolute_error: 0.0523 - mean_squared_error: 0.0046 - val_loss: 0.0032 - val_acc: 0.0319 - val_mean_absolute_error: 0.0437 - val_mean_squared_error: 0.0032\n",
      "Epoch 10/50\n",
      "31946/31946 [==============================] - 1s 18us/step - loss: 0.0039 - acc: 0.0345 - mean_absolute_error: 0.0482 - mean_squared_error: 0.0039 - val_loss: 0.0025 - val_acc: 0.0319 - val_mean_absolute_error: 0.0394 - val_mean_squared_error: 0.0025\n",
      "Epoch 11/50\n",
      "31946/31946 [==============================] - 1s 18us/step - loss: 0.0034 - acc: 0.0345 - mean_absolute_error: 0.0448 - mean_squared_error: 0.0034 - val_loss: 0.0020 - val_acc: 0.0319 - val_mean_absolute_error: 0.0350 - val_mean_squared_error: 0.0020\n",
      "Epoch 12/50\n",
      "31946/31946 [==============================] - 1s 18us/step - loss: 0.0031 - acc: 0.0345 - mean_absolute_error: 0.0423 - mean_squared_error: 0.0031 - val_loss: 0.0016 - val_acc: 0.0319 - val_mean_absolute_error: 0.0320 - val_mean_squared_error: 0.0016\n",
      "Epoch 13/50\n",
      "31946/31946 [==============================] - 1s 18us/step - loss: 0.0028 - acc: 0.0345 - mean_absolute_error: 0.0398 - mean_squared_error: 0.0028 - val_loss: 0.0015 - val_acc: 0.0319 - val_mean_absolute_error: 0.0306 - val_mean_squared_error: 0.0015\n",
      "Epoch 14/50\n",
      "31946/31946 [==============================] - 1s 18us/step - loss: 0.0026 - acc: 0.0345 - mean_absolute_error: 0.0384 - mean_squared_error: 0.0026 - val_loss: 0.0012 - val_acc: 0.0319 - val_mean_absolute_error: 0.0278 - val_mean_squared_error: 0.0012\n",
      "Epoch 15/50\n",
      "31946/31946 [==============================] - 1s 17us/step - loss: 0.0025 - acc: 0.0345 - mean_absolute_error: 0.0374 - mean_squared_error: 0.0025 - val_loss: 0.0012 - val_acc: 0.0319 - val_mean_absolute_error: 0.0272 - val_mean_squared_error: 0.0012\n",
      "Epoch 16/50\n",
      "31946/31946 [==============================] - 1s 18us/step - loss: 0.0024 - acc: 0.0345 - mean_absolute_error: 0.0366 - mean_squared_error: 0.0024 - val_loss: 0.0010 - val_acc: 0.0319 - val_mean_absolute_error: 0.0258 - val_mean_squared_error: 0.0010\n",
      "Epoch 17/50\n",
      "31946/31946 [==============================] - 1s 19us/step - loss: 0.0023 - acc: 0.0345 - mean_absolute_error: 0.0356 - mean_squared_error: 0.0023 - val_loss: 9.4949e-04 - val_acc: 0.0319 - val_mean_absolute_error: 0.0247 - val_mean_squared_error: 9.4949e-04\n",
      "Epoch 18/50\n",
      "31946/31946 [==============================] - 1s 17us/step - loss: 0.0023 - acc: 0.0345 - mean_absolute_error: 0.0354 - mean_squared_error: 0.0023 - val_loss: 8.8543e-04 - val_acc: 0.0319 - val_mean_absolute_error: 0.0240 - val_mean_squared_error: 8.8543e-04\n",
      "Epoch 19/50\n",
      "31946/31946 [==============================] - 1s 18us/step - loss: 0.0022 - acc: 0.0345 - mean_absolute_error: 0.0348 - mean_squared_error: 0.0022 - val_loss: 8.7896e-04 - val_acc: 0.0319 - val_mean_absolute_error: 0.0234 - val_mean_squared_error: 8.7896e-04\n",
      "Epoch 20/50\n",
      "31946/31946 [==============================] - 1s 18us/step - loss: 0.0021 - acc: 0.0345 - mean_absolute_error: 0.0339 - mean_squared_error: 0.0021 - val_loss: 8.1662e-04 - val_acc: 0.0319 - val_mean_absolute_error: 0.0227 - val_mean_squared_error: 8.1662e-04\n",
      "Epoch 21/50\n",
      "31946/31946 [==============================] - 1s 19us/step - loss: 0.0021 - acc: 0.0345 - mean_absolute_error: 0.0339 - mean_squared_error: 0.0021 - val_loss: 9.0398e-04 - val_acc: 0.0319 - val_mean_absolute_error: 0.0236 - val_mean_squared_error: 9.0398e-04\n",
      "Epoch 22/50\n",
      "31946/31946 [==============================] - 1s 18us/step - loss: 0.0020 - acc: 0.0345 - mean_absolute_error: 0.0331 - mean_squared_error: 0.0020 - val_loss: 8.6674e-04 - val_acc: 0.0319 - val_mean_absolute_error: 0.0238 - val_mean_squared_error: 8.6674e-04\n"
     ]
    }
   ],
   "source": [
    "batch_size=150\n",
    "epochs=50\n",
    "\n",
    "history=model.fit(x_train, y_train, \n",
    "                  batch_size=batch_size, \n",
    "                  epochs=epochs, \n",
    "                  verbose=1, \n",
    "                  validation_split = 0.15, \n",
    "                  shuffle=True,\n",
    "                 callbacks=[EarlyStopping(patience=2 ,restore_best_weights=True),History()])"
   ]
  },
  {
   "cell_type": "code",
   "execution_count": 18,
   "metadata": {},
   "outputs": [
    {
     "data": {
      "text/plain": [
       "Text(-5.5, 0.95, 'r^2 is 0.978058627389977')"
      ]
     },
     "execution_count": 18,
     "metadata": {},
     "output_type": "execute_result"
    },
    {
     "data": {
      "image/png": "[encoded data removed]",
      "text/plain": [
       "<Figure size 360x360 with 3 Axes>"
      ]
     },
     "metadata": {
      "needs_background": "light"
     },
     "output_type": "display_data"
    }
   ],
   "source": [
    "predictions=model.predict(x_test)\n",
    "r2 = scipy.stats.pearsonr(np.array(y_test).ravel(), predictions.ravel())[0]**2\n",
    "g = sns.jointplot(np.array(y_test).ravel(), predictions.ravel(),\n",
    "                  stat_func = None,\n",
    "                  kind = 'scatter',\n",
    "                  s = 0.5,\n",
    "                  alpha = 0.1,\n",
    "                  height = 5)\n",
    "\n",
    "g.ax_joint.set_ylabel('Predicted Rate Factor')\n",
    "g.ax_joint.set_xlabel('Measured Rate Factor')\n",
    "text=\"r^2 is \"+str(r2)\n",
    "plt.annotate(text, xy=(-5.5, 0.95), xycoords='axes fraction')"
   ]
  },
  {
   "cell_type": "code",
   "execution_count": 21,
   "metadata": {},
   "outputs": [
    {
     "name": "stdout",
     "output_type": "stream",
     "text": [
      "(1, 1, 6, 10)\n"
     ]
    }
   ],
   "source": [
    "wb = model.get_layer(\"conv1d_1\").get_weights()\n",
    "weights, bias = wb\n",
    "weights = weights.reshape(1,kernel_length,6,conv_filters)\n",
    "print(weights.shape)"
   ]
  },
  {
   "cell_type": "code",
   "execution_count": 22,
   "metadata": {
    "scrolled": true
   },
   "outputs": [
    {
     "data": {
      "image/png": "[encoded data removed]",
      "text/plain": [
       "<Figure size 288x144 with 2 Axes>"
      ]
     },
     "metadata": {
      "needs_background": "light"
     },
     "output_type": "display_data"
    },
    {
     "data": {
      "image/png": "[encoded data removed]",
      "text/plain": [
       "<Figure size 288x144 with 2 Axes>"
      ]
     },
     "metadata": {
      "needs_background": "light"
     },
     "output_type": "display_data"
    },
    {
     "data": {
      "image/png": "[encoded data removed]",
      "text/plain": [
       "<Figure size 288x144 with 2 Axes>"
      ]
     },
     "metadata": {
      "needs_background": "light"
     },
     "output_type": "display_data"
    },
    {
     "data": {
      "image/png": "[encoded data removed]",
      "text/plain": [
       "<Figure size 288x144 with 2 Axes>"
      ]
     },
     "metadata": {
      "needs_background": "light"
     },
     "output_type": "display_data"
    },
    {
     "data": {
      "image/png": "[encoded data removed]",
      "text/plain": [
       "<Figure size 288x144 with 2 Axes>"
      ]
     },
     "metadata": {
      "needs_background": "light"
     },
     "output_type": "display_data"
    },
    {
     "data": {
      "image/png": "[encoded data removed]",
      "text/plain": [
       "<Figure size 288x144 with 2 Axes>"
      ]
     },
     "metadata": {
      "needs_background": "light"
     },
     "output_type": "display_data"
    },
    {
     "data": {
      "image/png": "[encoded data removed]",
      "text/plain": [
       "<Figure size 288x144 with 2 Axes>"
      ]
     },
     "metadata": {
      "needs_background": "light"
     },
     "output_type": "display_data"
    },
    {
     "data": {
      "image/png": "[encoded data removed]",
      "text/plain": [
       "<Figure size 288x144 with 2 Axes>"
      ]
     },
     "metadata": {
      "needs_background": "light"
     },
     "output_type": "display_data"
    },
    {
     "data": {
      "image/png": "[encoded data removed]",
      "text/plain": [
       "<Figure size 288x144 with 2 Axes>"
      ]
     },
     "metadata": {
      "needs_background": "light"
     },
     "output_type": "display_data"
    },
    {
     "data": {
      "image/png": "[encoded data removed]",
      "text/plain": [
       "<Figure size 288x144 with 2 Axes>"
      ]
     },
     "metadata": {
      "needs_background": "light"
     },
     "output_type": "display_data"
    }
   ],
   "source": [
    "for n in range(conv_filters):\n",
    "    weight = weights[0,:,:,n]\n",
    "    transposed_weight = weight.T\n",
    "    title = \"filter:\" + str(n)\n",
    "    plt.figure(figsize=(4,2))\n",
    "    plt.title(title)\n",
    "    plt.imshow(transposed_weight,cmap=\"seismic\")\n",
    "    plt.yticks(range(6),('F1', 'F4', 'F7', 'F8', 'F10', 'F13'))\n",
    "    plt.colorbar(orientation=\"horizontal\")\n",
    "    plt.show()"
   ]
  },
  {
   "cell_type": "code",
   "execution_count": 23,
   "metadata": {},
   "outputs": [],
   "source": [
    "def consortium_logo(data):\n",
    "    # make Figure and Axes objects\n",
    "    fig, ax = plt.subplots(1,1,figsize=[2,4])\n",
    "\n",
    "    # create color scheme\n",
    "    color_scheme ={'B': 'orange', \n",
    "                    'L': 'red', \n",
    "                    'A': 'blue', \n",
    "                    'P': 'darkgreen',\n",
    "                    'E': 'black',\n",
    "                    'S': 'brown'}\n",
    "\n",
    "    # create Logo object\n",
    "    logo_logo = logomaker.Logo(data,\n",
    "                               ax=ax,\n",
    "                               color_scheme=color_scheme,\n",
    "                               baseline_width=0,\n",
    "                               font_name='Arial',\n",
    "                               show_spines=False,\n",
    "                               vsep=.005,\n",
    "                               width=.95,\n",
    "                              fade_below = 0.8)\n",
    "\n",
    "\n",
    "    logo_logo.style_glyphs_below(font_name='OCR A Std', flip=True, width=1.0)\n",
    "\n",
    "    # remove tick marks\n",
    "    ax.set_xticks([])\n",
    "    # tighten layout\n",
    "\n",
    "    logo_logo.fig.tight_layout()"
   ]
  },
  {
   "cell_type": "markdown",
   "metadata": {},
   "source": [
    "# Convolve filters over data to elucidate meaning"
   ]
  },
  {
   "cell_type": "code",
   "execution_count": 24,
   "metadata": {},
   "outputs": [],
   "source": [
    "filters = []\n",
    "for x in range(conv_filters):\n",
    "    filters.append(weights[0,:,:,x])\n",
    "    \n",
    "test = pd.DataFrame(np.array(filters).reshape(conv_filters,6))\n",
    "test.columns = [\"B\", \"L\", \"A\", \"P\", \"E\", \"S\"]"
   ]
  },
  {
   "cell_type": "code",
   "execution_count": 25,
   "metadata": {},
   "outputs": [],
   "source": [
    "convolution_data = []\n",
    "for z in range(len(filters)):\n",
    "    total_conv = []\n",
    "    for y in range(len(one_hot_encoded_data)):\n",
    "        single_conv = []\n",
    "        sequence = one_hot_encoded_data[y]\n",
    "        for x in range(6-kernel_length+1):\n",
    "            b = sequence[x:x+kernel_length]\n",
    "            single_conv.append(np.sum(b*filters[z]))\n",
    "        total_conv.append(np.sum(single_conv))\n",
    "    convolution_data.append(total_conv)"
   ]
  },
  {
   "cell_type": "code",
   "execution_count": 26,
   "metadata": {},
   "outputs": [],
   "source": [
    "filter_names = []\n",
    "for x in range(len(filters)):\n",
    "    filter_names.append(\"filter \"+str(x))\n",
    "convolution_data = pd.DataFrame(np.array(convolution_data)).T\n",
    "convolution_data.columns = [filter_names]"
   ]
  },
  {
   "cell_type": "code",
   "execution_count": 27,
   "metadata": {},
   "outputs": [],
   "source": [
    "merged_data = pd.concat([data, convolution_data], axis=1, sort=False).sort_values(by=\"ratefactor\", ascending = False).reset_index()\n",
    "filter_names = merged_data.columns[13:-1]"
   ]
  },
  {
   "cell_type": "code",
   "execution_count": 33,
   "metadata": {},
   "outputs": [
    {
     "data": {
      "image/png": "[encoded data removed]",
      "text/plain": [
       "<Figure size 432x288 with 2 Axes>"
      ]
     },
     "metadata": {
      "needs_background": "light"
     },
     "output_type": "display_data"
    }
   ],
   "source": [
    "sns.heatmap(np.array(merged_data[filter_names]).T)\n",
    "conv_correlations = []\n",
    "for x in range(len(filters)):\n",
    "    conv_correlations.append(scipy.stats.pearsonr((merged_data[\"ratefactor\"]), merged_data[filter_names[x]])[0])\n"
   ]
  },
  {
   "cell_type": "code",
   "execution_count": 34,
   "metadata": {},
   "outputs": [
    {
     "data": {
      "image/png": "[encoded data removed]",
      "text/plain": [
       "<Figure size 432x288 with 1 Axes>"
      ]
     },
     "metadata": {
      "needs_background": "light"
     },
     "output_type": "display_data"
    },
    {
     "data": {
      "text/html": [
       "<div>\n",
       "<style scoped>\n",
       "    .dataframe tbody tr th:only-of-type {\n",
       "        vertical-align: middle;\n",
       "    }\n",
       "\n",
       "    .dataframe tbody tr th {\n",
       "        vertical-align: top;\n",
       "    }\n",
       "\n",
       "    .dataframe thead th {\n",
       "        text-align: right;\n",
       "    }\n",
       "</style>\n",
       "<table border=\"1\" class=\"dataframe\">\n",
       "  <thead>\n",
       "    <tr style=\"text-align: right;\">\n",
       "      <th></th>\n",
       "      <th>0</th>\n",
       "    </tr>\n",
       "  </thead>\n",
       "  <tbody>\n",
       "    <tr>\n",
       "      <th>3</th>\n",
       "      <td>0.418658</td>\n",
       "    </tr>\n",
       "    <tr>\n",
       "      <th>5</th>\n",
       "      <td>0.291679</td>\n",
       "    </tr>\n",
       "    <tr>\n",
       "      <th>4</th>\n",
       "      <td>0.056320</td>\n",
       "    </tr>\n",
       "    <tr>\n",
       "      <th>9</th>\n",
       "      <td>-0.007926</td>\n",
       "    </tr>\n",
       "    <tr>\n",
       "      <th>7</th>\n",
       "      <td>-0.158514</td>\n",
       "    </tr>\n",
       "    <tr>\n",
       "      <th>8</th>\n",
       "      <td>-0.213833</td>\n",
       "    </tr>\n",
       "    <tr>\n",
       "      <th>1</th>\n",
       "      <td>-0.237525</td>\n",
       "    </tr>\n",
       "    <tr>\n",
       "      <th>0</th>\n",
       "      <td>-0.314846</td>\n",
       "    </tr>\n",
       "    <tr>\n",
       "      <th>6</th>\n",
       "      <td>-0.358941</td>\n",
       "    </tr>\n",
       "    <tr>\n",
       "      <th>2</th>\n",
       "      <td>-0.388714</td>\n",
       "    </tr>\n",
       "  </tbody>\n",
       "</table>\n",
       "</div>"
      ],
      "text/plain": [
       "          0\n",
       "3  0.418658\n",
       "5  0.291679\n",
       "4  0.056320\n",
       "9 -0.007926\n",
       "7 -0.158514\n",
       "8 -0.213833\n",
       "1 -0.237525\n",
       "0 -0.314846\n",
       "6 -0.358941\n",
       "2 -0.388714"
      ]
     },
     "execution_count": 34,
     "metadata": {},
     "output_type": "execute_result"
    }
   ],
   "source": [
    "plt.hist(conv_correlations, bins = len(conv_correlations))\n",
    "plt.show()\n",
    "pd.DataFrame(conv_correlations).sort_values(by = 0, ascending=False)"
   ]
  },
  {
   "cell_type": "code",
   "execution_count": 35,
   "metadata": {},
   "outputs": [
    {
     "data": {
      "image/png": "[encoded data removed]",
      "text/plain": [
       "<Figure size 144x288 with 1 Axes>"
      ]
     },
     "metadata": {
      "needs_background": "light"
     },
     "output_type": "display_data"
    }
   ],
   "source": [
    "for x in [3]:\n",
    "    consortium_logo(pd.DataFrame(test.iloc[x]).T)\n",
    "    title = \"filter:\" + str(x)\n",
    "    plt.title(title)"
   ]
  },
  {
   "cell_type": "markdown",
   "metadata": {},
   "source": [
    "# Attempting to make predictions"
   ]
  },
  {
   "cell_type": "code",
   "execution_count": 36,
   "metadata": {},
   "outputs": [],
   "source": [
    "x_train, x_test, y_train, y_test = train_test_split(np.array(one_hot_encoded_data), data[\"ratefactor\"], test_size=0.15, random_state = 4)"
   ]
  },
  {
   "cell_type": "code",
   "execution_count": 37,
   "metadata": {},
   "outputs": [],
   "source": [
    "\n",
    "x_train_model_data = []\n",
    "y_train_data = []\n",
    "for x in range(len(x_train)):\n",
    "    consortium_permutations = list(permutations(x_train[x]))\n",
    "    x_train_model_data.append(consortium_permutations)\n",
    "    for y in range(720):\n",
    "        y_train_data.append(y_train.iloc[x])\n",
    "\n",
    "y_train = y_train_data\n",
    "x_train_model_data = np.array(x_train_model_data)\n",
    "\n",
    "model_predict_data_reshaped = []\n",
    "for x in range(len(x_train_model_data)):\n",
    "    for y in range(len(x_train_model_data[x])):\n",
    "        model_predict_data_reshaped.append(x_train_model_data[x][y])\n",
    "model_predict_data_reshaped = np.array(model_predict_data_reshaped)\n",
    "\n",
    "x_train = model_predict_data_reshaped\n",
    "\n",
    "\n",
    "x_test_model_data = []\n",
    "y_test_data = []\n",
    "for x in range(len(x_test)):\n",
    "    consortium_permutations = list(permutations(x_test[x]))\n",
    "    x_test_model_data.append(consortium_permutations)\n",
    "    for y in range(720):\n",
    "        y_test_data.append(y_test.iloc[x])\n",
    "\n",
    "y_test = y_test_data\n",
    "x_test_model_data = np.array(x_test_model_data)\n",
    "\n",
    "model_test_data_reshaped = []\n",
    "for x in range(len(x_test_model_data)):\n",
    "    for y in range(len(x_test_model_data[x])):\n",
    "        model_test_data_reshaped.append(x_test_model_data[x][y])\n",
    "model_test_data_reshaped = np.array(model_test_data_reshaped)\n",
    "\n",
    "x_test = model_test_data_reshaped"
   ]
  },
  {
   "cell_type": "code",
   "execution_count": 38,
   "metadata": {},
   "outputs": [
    {
     "name": "stdout",
     "output_type": "stream",
     "text": [
      "_________________________________________________________________\n",
      "Layer (type)                 Output Shape              Param #   \n",
      "=================================================================\n",
      "conv1d_2 (Conv1D)            (None, 6, 20)             380       \n",
      "_________________________________________________________________\n",
      "activation_2 (Activation)    (None, 6, 20)             0         \n",
      "_________________________________________________________________\n",
      "dropout_2 (Dropout)          (None, 6, 20)             0         \n",
      "_________________________________________________________________\n",
      "conv1d_3 (Conv1D)            (None, 6, 20)             1220      \n",
      "_________________________________________________________________\n",
      "activation_3 (Activation)    (None, 6, 20)             0         \n",
      "_________________________________________________________________\n",
      "dropout_3 (Dropout)          (None, 6, 20)             0         \n",
      "_________________________________________________________________\n",
      "conv1d_4 (Conv1D)            (None, 6, 20)             1220      \n",
      "_________________________________________________________________\n",
      "activation_4 (Activation)    (None, 6, 20)             0         \n",
      "_________________________________________________________________\n",
      "dropout_4 (Dropout)          (None, 6, 20)             0         \n",
      "_________________________________________________________________\n",
      "flatten_2 (Flatten)          (None, 120)               0         \n",
      "_________________________________________________________________\n",
      "dense_3 (Dense)              (None, 40)                4840      \n",
      "_________________________________________________________________\n",
      "dropout_5 (Dropout)          (None, 40)                0         \n",
      "_________________________________________________________________\n",
      "dense_4 (Dense)              (None, 1)                 41        \n",
      "=================================================================\n",
      "Total params: 7,701\n",
      "Trainable params: 7,701\n",
      "Non-trainable params: 0\n",
      "_________________________________________________________________\n"
     ]
    }
   ],
   "source": [
    "kernel_length=3\n",
    "conv_layers=20\n",
    "hot_dim=6\n",
    "model = Sequential()\n",
    "\n",
    "model.add(Conv1D(conv_layers, padding='same', input_shape=(x_train.shape[1], hot_dim), kernel_size=kernel_length))\n",
    "model.add(Activation('relu'))\n",
    "model.add(Dropout(0.2))\n",
    "\n",
    "model.add(Conv1D(conv_layers, padding='same', input_shape=(x_train.shape[1], 1), kernel_size=kernel_length))\n",
    "model.add(Activation('relu'))\n",
    "model.add(Dropout(0.2))\n",
    "model.add(Conv1D(conv_layers, padding='same', input_shape=(x_train.shape[1], 1), kernel_size=kernel_length))\n",
    "model.add(Activation('relu'))\n",
    "model.add(Dropout(0.2))\n",
    "\n",
    "model.add(Flatten())\n",
    "#model.add(Dense(128, activation=\"relu\"))\n",
    "#model.add(Dropout(0.2))\n",
    "model.add(Dense(40, activation=\"relu\"))\n",
    "model.add(Dropout(0.2))\n",
    "#model.add(Dense(16, activation=\"relu\"))\n",
    "model.add(Dense(1, activation='linear'))\n",
    "\n",
    "model.compile(loss='mean_squared_error', optimizer='adam',metrics=[\"accuracy\", \"mae\", \"mse\"])\n",
    "\n",
    "model.summary()"
   ]
  },
  {
   "cell_type": "code",
   "execution_count": null,
   "metadata": {},
   "outputs": [],
   "source": [
    "batch_size=50\n",
    "epochs=30\n",
    "\n",
    "history=model.fit(x_train, y_train, \n",
    "                  batch_size=batch_size, \n",
    "                  epochs=epochs, \n",
    "                  verbose=1, \n",
    "                  validation_split = 0.15, \n",
    "                  shuffle=True,\n",
    "                 callbacks=[EarlyStopping(patience=3 ,restore_best_weights=True),History()])"
   ]
  },
  {
   "cell_type": "code",
   "execution_count": 378,
   "metadata": {},
   "outputs": [
    {
     "data": {
      "text/plain": [
       "Text(-5.5, 0.95, 'r^2 is 0.4360458421766842')"
      ]
     },
     "execution_count": 378,
     "metadata": {},
     "output_type": "execute_result"
    },
    {
     "data": {
      "image/png": "[encoded data removed]",
      "text/plain": [
       "<Figure size 360x360 with 3 Axes>"
      ]
     },
     "metadata": {
      "needs_background": "light"
     },
     "output_type": "display_data"
    }
   ],
   "source": [
    "predictions=model.predict(x_test)\n",
    "r2 = scipy.stats.pearsonr(np.array(y_test).ravel(), predictions.ravel())[0]**2\n",
    "g = sns.jointplot(np.array(y_test).ravel(), predictions.ravel(),\n",
    "                  stat_func = None,\n",
    "                  kind = 'scatter',\n",
    "                  s = 0.5,\n",
    "                  alpha = 0.1,\n",
    "                  height = 5)\n",
    "\n",
    "g.ax_joint.set_ylabel('Predicted Rate Factor')\n",
    "g.ax_joint.set_xlabel('Measured Rate Factor')\n",
    "text=\"r^2 is \"+str(r2)\n",
    "plt.annotate(text, xy=(-5.5, 0.95), xycoords='axes fraction')"
   ]
  },
  {
   "cell_type": "code",
   "execution_count": null,
   "metadata": {},
   "outputs": [],
   "source": []
  },
  {
   "cell_type": "code",
   "execution_count": null,
   "metadata": {},
   "outputs": [],
   "source": []
  }
 ],
 "metadata": {
  "kernelspec": {
   "display_name": "Python 3",
   "language": "python",
   "name": "python3"
  },
  "language_info": {
   "codemirror_mode": {
    "name": "ipython",
    "version": 3
   },
   "file_extension": ".py",
   "mimetype": "text/x-python",
   "name": "python",
   "nbconvert_exporter": "python",
   "pygments_lexer": "ipython3",
   "version": "3.6.8"
  }
 },
 "nbformat": 4,
 "nbformat_minor": 2
}
