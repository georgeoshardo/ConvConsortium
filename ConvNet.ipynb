{
 "cells": [
  {
   "cell_type": "code",
   "execution_count": 345,
   "metadata": {},
   "outputs": [],
   "source": [
    "from keras.layers.convolutional import Conv2D, MaxPooling2D, Conv1D\n",
    "from keras.layers.core import Dense, Flatten, Masking, Activation\n",
    "from keras.utils import to_categorical\n",
    "import keras\n",
    "from keras.layers import Embedding, GlobalAveragePooling1D, Dropout\n",
    "from keras.models import Sequential\n",
    "from keras.callbacks import EarlyStopping, History\n",
    "\n",
    "\n",
    "import numpy as np\n",
    "from sklearn.metrics import roc_curve, auc, average_precision_score\n",
    "from sklearn.preprocessing import MinMaxScaler\n",
    "from sklearn.model_selection import train_test_split\n",
    "\n",
    "#from helper import IOHelper, SequenceHelper\n",
    "\n",
    "import random\n",
    "random.seed(1234)\n",
    "\n",
    "import pandas as pd\n",
    "\n",
    "import os\n",
    "\n",
    "import matplotlib.pyplot as plt\n",
    "\n",
    "import scipy\n",
    "\n",
    "import seaborn as sns\n",
    "\n",
    "from itertools import permutations\n",
    "\n",
    "import logomaker\n"
   ]
  },
  {
   "cell_type": "code",
   "execution_count": 346,
   "metadata": {},
   "outputs": [],
   "source": [
    "data = pd.read_csv(\"fullmodeldata.txt\", sep = \"\\t\")\n",
    "data = data.groupby(np.arange(len(data))//3).mean()"
   ]
  },
  {
   "cell_type": "code",
   "execution_count": 347,
   "metadata": {},
   "outputs": [
    {
     "data": {
      "text/plain": [
       "Index(['p1', 'p4', 'p7', 'p8', 'p10', 'p13'], dtype='object')"
      ]
     },
     "execution_count": 347,
     "metadata": {},
     "output_type": "execute_result"
    }
   ],
   "source": [
    "species = data.columns[7:13]\n",
    "species"
   ]
  },
  {
   "cell_type": "code",
   "execution_count": 348,
   "metadata": {},
   "outputs": [],
   "source": [
    "vectors = np.zeros((6,6))\n",
    "for x in range(6):\n",
    "    vectors[x][x] = 1"
   ]
  },
  {
   "cell_type": "code",
   "execution_count": 349,
   "metadata": {},
   "outputs": [],
   "source": [
    "one_hot_encoded_data = []\n",
    "for y in range(len(data)):\n",
    "    one_hot_encoded_consortium = []\n",
    "    for x in range(6):\n",
    "        if data[species].iloc[y,x] == 1:\n",
    "            one_hot_encoded_consortium.append(vectors[x])\n",
    "        else:\n",
    "            one_hot_encoded_consortium.append([0.0, 0.0, 0.0, 0.0, 0.0, 0.0])\n",
    "    one_hot_encoded_data.append(np.array(one_hot_encoded_consortium))"
   ]
  },
  {
   "cell_type": "code",
   "execution_count": 350,
   "metadata": {},
   "outputs": [],
   "source": [
    "model_data = []\n",
    "rate_factors = []\n",
    "yield_factors = []\n",
    "for x in range(len(one_hot_encoded_data)):\n",
    "    consortium_permutations = list(permutations(one_hot_encoded_data[x]))\n",
    "    model_data.append(consortium_permutations)\n",
    "    for y in range(720):\n",
    "        rate_factors.append(data[\"ratefactor\"][x])\n",
    "        yield_factors.append(data[\"yieldfactor\"][x])\n",
    "\n",
    "model_data = np.array(model_data)"
   ]
  },
  {
   "cell_type": "code",
   "execution_count": 351,
   "metadata": {},
   "outputs": [],
   "source": [
    "model_data_reshaped = []\n",
    "for x in range(len(model_data)):\n",
    "    for y in range(len(model_data[x])):\n",
    "        model_data_reshaped.append(model_data[x][y])\n",
    "model_data_reshaped = np.array(model_data_reshaped)"
   ]
  },
  {
   "cell_type": "code",
   "execution_count": 352,
   "metadata": {},
   "outputs": [],
   "source": [
    "x_train, x_test, y_train, y_test = train_test_split(model_data_reshaped, rate_factors, test_size=0.1, random_state = 4)"
   ]
  },
  {
   "cell_type": "markdown",
   "metadata": {},
   "source": [
    "# Hyperparameter search to find best model architecture"
   ]
  },
  {
   "cell_type": "code",
   "execution_count": null,
   "metadata": {},
   "outputs": [],
   "source": [
    "r2_list = []\n",
    "for kernel_length in [1, 2, 3]:\n",
    "    for conv_filters in [5, 10, 15, 20]:\n",
    "        for dense_nodes in [20, 30, 40, 60, 80, 100]:\n",
    "            kernel_length=kernel_length\n",
    "            conv_filters=conv_filters\n",
    "            hot_dim=6\n",
    "            model = Sequential()\n",
    "\n",
    "            model.add(Conv1D(conv_filters, padding='same', input_shape=(x_train.shape[1], hot_dim), kernel_size=kernel_length))\n",
    "            model.add(Activation('relu'))\n",
    "            #model.add(Dropout(0.2))\n",
    "\n",
    "            #model.add(Conv1D(conv_filters, padding='same', input_shape=(x_train.shape[1], 1), kernel_size=kernel_length))\n",
    "            #model.add(Activation('relu'))\n",
    "            #model.add(Dropout(0.2))\n",
    "\n",
    "            #model.add(Conv1D(conv_filters, padding='same', input_shape=(x_train.shape[1], 1), kernel_size=kernel_length))\n",
    "            #model.add(Activation('relu'))\n",
    "            #model.add(Dropout(0.2))\n",
    "\n",
    "            model.add(Flatten())\n",
    "            #model.add(Dense(128, activation=\"relu\"))\n",
    "            #model.add(Dropout(0.2))\n",
    "            model.add(Dense(dense_nodes, activation=\"relu\"))\n",
    "            model.add(Dropout(0.2))\n",
    "            #model.add(Dense(16, activation=\"relu\"))\n",
    "            model.add(Dense(1, activation='linear'))\n",
    "\n",
    "            model.compile(loss='mean_squared_error', optimizer='adam',metrics=[\"accuracy\", \"mae\", \"mse\"])\n",
    "\n",
    "            batch_size=150\n",
    "            epochs=100\n",
    "\n",
    "            history=model.fit(x_train, y_train, \n",
    "                              batch_size=batch_size, \n",
    "                              epochs=epochs, \n",
    "                              verbose=1, \n",
    "                              validation_split = 0.15, \n",
    "                              shuffle=True,\n",
    "                             callbacks=[EarlyStopping(patience=2 ,restore_best_weights=True),History()])\n",
    "\n",
    "            predictions=model.predict(x_test)\n",
    "\n",
    "            r2 = scipy.stats.pearsonr(np.array(y_test).ravel(), predictions.ravel())[0]**2\n",
    "            r2_list.append([r2, kernel_length, conv_filters, dense_nodes])"
   ]
  },
  {
   "cell_type": "code",
   "execution_count": null,
   "metadata": {},
   "outputs": [],
   "source": [
    "r2_list = pd.DataFrame(r2_list)"
   ]
  },
  {
   "cell_type": "code",
   "execution_count": null,
   "metadata": {
    "scrolled": true
   },
   "outputs": [],
   "source": [
    "r2_list.sort_values(by=0, ascending = False)"
   ]
  },
  {
   "cell_type": "markdown",
   "metadata": {},
   "source": [
    "# Test best model (s)\n",
    "\n",
    "Model with fewest filters for best R^2 tested (kernel length = 1, 10 filters, 100 dense nodes)\n",
    "Really kernel length should be 1 because convolving a 6x1 over a 6x6 one-hot-encoded matrix is the same as convolving the filter over a 6x1 position weight matrix of the consortium itself"
   ]
  },
  {
   "cell_type": "code",
   "execution_count": 331,
   "metadata": {},
   "outputs": [
    {
     "name": "stdout",
     "output_type": "stream",
     "text": [
      "_________________________________________________________________\n",
      "Layer (type)                 Output Shape              Param #   \n",
      "=================================================================\n",
      "conv1d_19 (Conv1D)           (None, 6, 10)             70        \n",
      "_________________________________________________________________\n",
      "activation_19 (Activation)   (None, 6, 10)             0         \n",
      "_________________________________________________________________\n",
      "flatten_19 (Flatten)         (None, 60)                0         \n",
      "_________________________________________________________________\n",
      "dense_37 (Dense)             (None, 80)                4880      \n",
      "_________________________________________________________________\n",
      "dropout_19 (Dropout)         (None, 80)                0         \n",
      "_________________________________________________________________\n",
      "dense_38 (Dense)             (None, 1)                 81        \n",
      "=================================================================\n",
      "Total params: 5,031\n",
      "Trainable params: 5,031\n",
      "Non-trainable params: 0\n",
      "_________________________________________________________________\n"
     ]
    }
   ],
   "source": [
    "kernel_length=1\n",
    "conv_filters=10\n",
    "hot_dim=6\n",
    "model = Sequential()\n",
    "\n",
    "model.add(Conv1D(conv_filters, padding='same', input_shape=(x_train.shape[1], hot_dim), kernel_size=kernel_length))\n",
    "model.add(Activation('relu'))\n",
    "#model.add(Dropout(0.2))\n",
    "\n",
    "#model.add(Conv1D(conv_filters, padding='same', input_shape=(x_train.shape[1], 1), kernel_size=kernel_length))\n",
    "#model.add(Activation('relu'))\n",
    "#model.add(Dropout(0.2))\n",
    "\n",
    "#model.add(Conv1D(conv_filters, padding='same', input_shape=(x_train.shape[1], 1), kernel_size=kernel_length))\n",
    "#model.add(Activation('relu'))\n",
    "#model.add(Dropout(0.2))\n",
    "\n",
    "model.add(Flatten())\n",
    "#model.add(Dense(128, activation=\"relu\"))\n",
    "#model.add(Dropout(0.2))\n",
    "model.add(Dense(100, activation=\"relu\"))\n",
    "model.add(Dropout(0.2))\n",
    "#model.add(Dense(16, activation=\"relu\"))\n",
    "model.add(Dense(1, activation='linear'))\n",
    "\n",
    "model.compile(loss='mean_squared_error', optimizer='adam',metrics=[\"accuracy\", \"mae\", \"mse\"])\n",
    "\n",
    "model.summary()"
   ]
  },
  {
   "cell_type": "code",
   "execution_count": 353,
   "metadata": {
    "scrolled": true
   },
   "outputs": [
    {
     "name": "stdout",
     "output_type": "stream",
     "text": [
      "Train on 31946 samples, validate on 5638 samples\n",
      "Epoch 1/50\n",
      "31946/31946 [==============================] - 1s 20us/step - loss: 0.0964 - acc: 0.1010 - mean_absolute_error: 0.1993 - mean_squared_error: 0.0964 - val_loss: 0.0790 - val_acc: 0.1000 - val_mean_absolute_error: 0.1707 - val_mean_squared_error: 0.0790\n",
      "Epoch 2/50\n",
      "31946/31946 [==============================] - 1s 21us/step - loss: 0.0892 - acc: 0.1011 - mean_absolute_error: 0.1951 - mean_squared_error: 0.0892 - val_loss: 0.0699 - val_acc: 0.1000 - val_mean_absolute_error: 0.1645 - val_mean_squared_error: 0.0699\n",
      "Epoch 3/50\n",
      "31946/31946 [==============================] - 1s 22us/step - loss: 0.0811 - acc: 0.1005 - mean_absolute_error: 0.1905 - mean_squared_error: 0.0811 - val_loss: 0.0597 - val_acc: 0.1000 - val_mean_absolute_error: 0.1550 - val_mean_squared_error: 0.0597\n",
      "Epoch 4/50\n",
      "31946/31946 [==============================] - 1s 22us/step - loss: 0.0708 - acc: 0.1022 - mean_absolute_error: 0.1853 - mean_squared_error: 0.0708 - val_loss: 0.0474 - val_acc: 0.1000 - val_mean_absolute_error: 0.1444 - val_mean_squared_error: 0.0474\n",
      "Epoch 5/50\n",
      "31946/31946 [==============================] - 1s 21us/step - loss: 0.0571 - acc: 0.1040 - mean_absolute_error: 0.1715 - mean_squared_error: 0.0571 - val_loss: 0.0359 - val_acc: 0.1000 - val_mean_absolute_error: 0.1299 - val_mean_squared_error: 0.0359\n",
      "Epoch 6/50\n",
      "31946/31946 [==============================] - 1s 21us/step - loss: 0.0469 - acc: 0.1043 - mean_absolute_error: 0.1581 - mean_squared_error: 0.0469 - val_loss: 0.0281 - val_acc: 0.1000 - val_mean_absolute_error: 0.1184 - val_mean_squared_error: 0.0281\n",
      "Epoch 7/50\n",
      "31946/31946 [==============================] - 1s 21us/step - loss: 0.0398 - acc: 0.1044 - mean_absolute_error: 0.1457 - mean_squared_error: 0.0398 - val_loss: 0.0248 - val_acc: 0.1000 - val_mean_absolute_error: 0.1101 - val_mean_squared_error: 0.0248\n",
      "Epoch 8/50\n",
      "31946/31946 [==============================] - 1s 21us/step - loss: 0.0377 - acc: 0.1044 - mean_absolute_error: 0.1405 - mean_squared_error: 0.0377 - val_loss: 0.0230 - val_acc: 0.1000 - val_mean_absolute_error: 0.1040 - val_mean_squared_error: 0.0230\n",
      "Epoch 9/50\n",
      "31946/31946 [==============================] - 1s 22us/step - loss: 0.0360 - acc: 0.1045 - mean_absolute_error: 0.1371 - mean_squared_error: 0.0360 - val_loss: 0.0210 - val_acc: 0.1000 - val_mean_absolute_error: 0.1021 - val_mean_squared_error: 0.0210\n",
      "Epoch 10/50\n",
      "31946/31946 [==============================] - 1s 21us/step - loss: 0.0353 - acc: 0.1044 - mean_absolute_error: 0.1355 - mean_squared_error: 0.0353 - val_loss: 0.0207 - val_acc: 0.1000 - val_mean_absolute_error: 0.1020 - val_mean_squared_error: 0.0207\n",
      "Epoch 11/50\n",
      "31946/31946 [==============================] - 1s 21us/step - loss: 0.0340 - acc: 0.1045 - mean_absolute_error: 0.1326 - mean_squared_error: 0.0340 - val_loss: 0.0193 - val_acc: 0.1000 - val_mean_absolute_error: 0.0982 - val_mean_squared_error: 0.0193\n",
      "Epoch 12/50\n",
      "31946/31946 [==============================] - 1s 22us/step - loss: 0.0309 - acc: 0.1044 - mean_absolute_error: 0.1268 - mean_squared_error: 0.0309 - val_loss: 0.0167 - val_acc: 0.1000 - val_mean_absolute_error: 0.0893 - val_mean_squared_error: 0.0167\n",
      "Epoch 13/50\n",
      "31946/31946 [==============================] - 1s 21us/step - loss: 0.0302 - acc: 0.1042 - mean_absolute_error: 0.1228 - mean_squared_error: 0.0302 - val_loss: 0.0152 - val_acc: 0.1000 - val_mean_absolute_error: 0.0834 - val_mean_squared_error: 0.0152\n",
      "Epoch 14/50\n",
      "31946/31946 [==============================] - 1s 21us/step - loss: 0.0280 - acc: 0.1033 - mean_absolute_error: 0.1173 - mean_squared_error: 0.0280 - val_loss: 0.0135 - val_acc: 0.1000 - val_mean_absolute_error: 0.0792 - val_mean_squared_error: 0.0135\n",
      "Epoch 15/50\n",
      "31946/31946 [==============================] - 1s 21us/step - loss: 0.0266 - acc: 0.1029 - mean_absolute_error: 0.1137 - mean_squared_error: 0.0266 - val_loss: 0.0128 - val_acc: 0.1000 - val_mean_absolute_error: 0.0785 - val_mean_squared_error: 0.0128\n",
      "Epoch 16/50\n",
      "31946/31946 [==============================] - 1s 21us/step - loss: 0.0258 - acc: 0.1026 - mean_absolute_error: 0.1119 - mean_squared_error: 0.0258 - val_loss: 0.0129 - val_acc: 0.1000 - val_mean_absolute_error: 0.0768 - val_mean_squared_error: 0.0129\n"
     ]
    }
   ],
   "source": [
    "batch_size=150\n",
    "epochs=50\n",
    "\n",
    "history=model.fit(x_train, y_train, \n",
    "                  batch_size=batch_size, \n",
    "                  epochs=epochs, \n",
    "                  verbose=1, \n",
    "                  validation_split = 0.15, \n",
    "                  shuffle=True,\n",
    "                 callbacks=[EarlyStopping(patience=2 ,restore_best_weights=True),History()])"
   ]
  },
  {
   "cell_type": "code",
   "execution_count": 354,
   "metadata": {},
   "outputs": [
    {
     "data": {
      "text/plain": [
       "Text(-5.5, 0.95, 'r^2 is 0.9538950563651752')"
      ]
     },
     "execution_count": 354,
     "metadata": {},
     "output_type": "execute_result"
    },
    {
     "data": {
      "image/png": "[encoded data removed]",
      "text/plain": [
       "<Figure size 360x360 with 3 Axes>"
      ]
     },
     "metadata": {
      "needs_background": "light"
     },
     "output_type": "display_data"
    }
   ],
   "source": [
    "predictions=model.predict(x_test)\n",
    "r2 = scipy.stats.pearsonr(np.array(y_test).ravel(), predictions.ravel())[0]**2\n",
    "g = sns.jointplot(np.array(y_test).ravel(), predictions.ravel(),\n",
    "                  stat_func = None,\n",
    "                  kind = 'scatter',\n",
    "                  s = 0.5,\n",
    "                  alpha = 0.1,\n",
    "                  height = 5)\n",
    "\n",
    "g.ax_joint.set_ylabel('Predicted Rate Factor')\n",
    "g.ax_joint.set_xlabel('Measured Rate Factor')\n",
    "text=\"r^2 is \"+str(r2)\n",
    "plt.annotate(text, xy=(-5.5, 0.95), xycoords='axes fraction')"
   ]
  },
  {
   "cell_type": "code",
   "execution_count": 355,
   "metadata": {},
   "outputs": [
    {
     "name": "stdout",
     "output_type": "stream",
     "text": [
      "(1, 1, 6, 10)\n"
     ]
    }
   ],
   "source": [
    "wb = model.get_layer(\"conv1d_19\").get_weights()\n",
    "weights, bias = wb\n",
    "weights = weights.reshape(1,kernel_length,6,conv_filters)\n",
    "print(weights.shape)"
   ]
  },
  {
   "cell_type": "code",
   "execution_count": 356,
   "metadata": {
    "scrolled": true
   },
   "outputs": [
    {
     "data": {
      "image/png": "[encoded data removed]",
      "text/plain": [
       "<Figure size 288x144 with 2 Axes>"
      ]
     },
     "metadata": {
      "needs_background": "light"
     },
     "output_type": "display_data"
    },
    {
     "data": {
      "image/png": "[encoded data removed]",
      "text/plain": [
       "<Figure size 288x144 with 2 Axes>"
      ]
     },
     "metadata": {
      "needs_background": "light"
     },
     "output_type": "display_data"
    },
    {
     "data": {
      "image/png": "[encoded data removed]",
      "text/plain": [
       "<Figure size 288x144 with 2 Axes>"
      ]
     },
     "metadata": {
      "needs_background": "light"
     },
     "output_type": "display_data"
    },
    {
     "data": {
      "image/png": "[encoded data removed]",
      "text/plain": [
       "<Figure size 288x144 with 2 Axes>"
      ]
     },
     "metadata": {
      "needs_background": "light"
     },
     "output_type": "display_data"
    },
    {
     "data": {
      "image/png": "[encoded data removed]",
      "text/plain": [
       "<Figure size 288x144 with 2 Axes>"
      ]
     },
     "metadata": {
      "needs_background": "light"
     },
     "output_type": "display_data"
    },
    {
     "data": {
      "image/png": "[encoded data removed]",
      "text/plain": [
       "<Figure size 288x144 with 2 Axes>"
      ]
     },
     "metadata": {
      "needs_background": "light"
     },
     "output_type": "display_data"
    },
    {
     "data": {
      "image/png": "[encoded data removed]",
      "text/plain": [
       "<Figure size 288x144 with 2 Axes>"
      ]
     },
     "metadata": {
      "needs_background": "light"
     },
     "output_type": "display_data"
    },
    {
     "data": {
      "image/png": "[encoded data removed]",
      "text/plain": [
       "<Figure size 288x144 with 2 Axes>"
      ]
     },
     "metadata": {
      "needs_background": "light"
     },
     "output_type": "display_data"
    },
    {
     "data": {
      "image/png": "[encoded data removed]",
      "text/plain": [
       "<Figure size 288x144 with 2 Axes>"
      ]
     },
     "metadata": {
      "needs_background": "light"
     },
     "output_type": "display_data"
    },
    {
     "data": {
      "image/png": "[encoded data removed]",
      "text/plain": [
       "<Figure size 288x144 with 2 Axes>"
      ]
     },
     "metadata": {
      "needs_background": "light"
     },
     "output_type": "display_data"
    }
   ],
   "source": [
    "for n in range(conv_filters):\n",
    "    weight = weights[0,:,:,n]\n",
    "    transposed_weight = weight.T\n",
    "    title = \"filter:\" + str(n)\n",
    "    plt.figure(figsize=(4,2))\n",
    "    plt.title(title)\n",
    "    plt.imshow(transposed_weight,cmap=\"seismic\")\n",
    "    plt.yticks(range(6),('F1', 'F4', 'F7', 'F8', 'F10', 'F13'))\n",
    "    plt.colorbar(orientation=\"horizontal\")\n",
    "    plt.show()"
   ]
  },
  {
   "cell_type": "code",
   "execution_count": 357,
   "metadata": {},
   "outputs": [],
   "source": [
    "def consortium_logo(data):\n",
    "    # make Figure and Axes objects\n",
    "    fig, ax = plt.subplots(1,1,figsize=[2,4])\n",
    "\n",
    "    # create color scheme\n",
    "    color_scheme ={'B': 'orange', \n",
    "                    'L': 'red', \n",
    "                    'A': 'blue', \n",
    "                    'P': 'darkgreen',\n",
    "                    'E': 'black',\n",
    "                    'S': 'brown'}\n",
    "\n",
    "    # create Logo object\n",
    "    logo_logo = logomaker.Logo(data,\n",
    "                               ax=ax,\n",
    "                               color_scheme=color_scheme,\n",
    "                               baseline_width=0,\n",
    "                               font_name='Arial',\n",
    "                               show_spines=False,\n",
    "                               vsep=.005,\n",
    "                               width=.95,\n",
    "                              fade_below = 0.8)\n",
    "\n",
    "\n",
    "    logo_logo.style_glyphs_below(font_name='OCR A Std', flip=True, width=1.0)\n",
    "\n",
    "    # remove tick marks\n",
    "    ax.set_xticks([])\n",
    "    # tighten layout\n",
    "\n",
    "    logo_logo.fig.tight_layout()"
   ]
  },
  {
   "cell_type": "markdown",
   "metadata": {},
   "source": [
    "# Convolve filters over data to elucidate meaning"
   ]
  },
  {
   "cell_type": "code",
   "execution_count": 358,
   "metadata": {},
   "outputs": [],
   "source": [
    "filters = []\n",
    "for x in range(conv_filters):\n",
    "    filters.append(weights[0,:,:,x])\n",
    "    \n",
    "test = pd.DataFrame(np.array(filters).reshape(conv_filters,6))\n",
    "test.columns = [\"B\", \"L\", \"A\", \"P\", \"E\", \"S\"]"
   ]
  },
  {
   "cell_type": "code",
   "execution_count": 359,
   "metadata": {},
   "outputs": [],
   "source": [
    "convolution_data = []\n",
    "for z in range(len(filters)):\n",
    "    total_conv = []\n",
    "    for y in range(len(one_hot_encoded_data)):\n",
    "        single_conv = []\n",
    "        sequence = one_hot_encoded_data[y]\n",
    "        for x in range(6-kernel_length+1):\n",
    "            b = sequence[x:x+kernel_length]\n",
    "            single_conv.append(np.sum(b*filters[z]))\n",
    "        total_conv.append(np.sum(single_conv))\n",
    "    convolution_data.append(total_conv)"
   ]
  },
  {
   "cell_type": "code",
   "execution_count": 360,
   "metadata": {},
   "outputs": [],
   "source": [
    "filter_names = []\n",
    "for x in range(len(filters)):\n",
    "    filter_names.append(\"filter \"+str(x))\n",
    "convolution_data = pd.DataFrame(np.array(convolution_data)).T\n",
    "convolution_data.columns = [filter_names]"
   ]
  },
  {
   "cell_type": "code",
   "execution_count": 361,
   "metadata": {},
   "outputs": [],
   "source": [
    "merged_data = pd.concat([data, convolution_data], axis=1, sort=False).sort_values(by=\"ratefactor\", ascending = False).reset_index()\n",
    "filter_names = merged_data.columns[13:-1]"
   ]
  },
  {
   "cell_type": "code",
   "execution_count": 362,
   "metadata": {},
   "outputs": [
    {
     "data": {
      "image/png": "[encoded data removed]",
      "text/plain": [
       "<Figure size 432x288 with 2 Axes>"
      ]
     },
     "metadata": {
      "needs_background": "light"
     },
     "output_type": "display_data"
    }
   ],
   "source": [
    "sns.heatmap(np.array(merged_data[filter_names]).T)\n",
    "conv_correlations = []\n",
    "for x in range(len(filters)):\n",
    "    conv_correlations.append(scipy.stats.pearsonr(np.log(merged_data[\"ratefactor\"]), merged_data[filter_names[x]])[0])\n"
   ]
  },
  {
   "cell_type": "code",
   "execution_count": 363,
   "metadata": {},
   "outputs": [
    {
     "data": {
      "image/png": "[encoded data removed]",
      "text/plain": [
       "<Figure size 432x288 with 1 Axes>"
      ]
     },
     "metadata": {
      "needs_background": "light"
     },
     "output_type": "display_data"
    },
    {
     "data": {
      "text/html": [
       "<div>\n",
       "<style scoped>\n",
       "    .dataframe tbody tr th:only-of-type {\n",
       "        vertical-align: middle;\n",
       "    }\n",
       "\n",
       "    .dataframe tbody tr th {\n",
       "        vertical-align: top;\n",
       "    }\n",
       "\n",
       "    .dataframe thead th {\n",
       "        text-align: right;\n",
       "    }\n",
       "</style>\n",
       "<table border=\"1\" class=\"dataframe\">\n",
       "  <thead>\n",
       "    <tr style=\"text-align: right;\">\n",
       "      <th></th>\n",
       "      <th>0</th>\n",
       "    </tr>\n",
       "  </thead>\n",
       "  <tbody>\n",
       "    <tr>\n",
       "      <th>4</th>\n",
       "      <td>0.830170</td>\n",
       "    </tr>\n",
       "    <tr>\n",
       "      <th>2</th>\n",
       "      <td>0.223605</td>\n",
       "    </tr>\n",
       "    <tr>\n",
       "      <th>7</th>\n",
       "      <td>0.196556</td>\n",
       "    </tr>\n",
       "    <tr>\n",
       "      <th>3</th>\n",
       "      <td>0.078370</td>\n",
       "    </tr>\n",
       "    <tr>\n",
       "      <th>6</th>\n",
       "      <td>-0.035173</td>\n",
       "    </tr>\n",
       "    <tr>\n",
       "      <th>9</th>\n",
       "      <td>-0.303577</td>\n",
       "    </tr>\n",
       "    <tr>\n",
       "      <th>5</th>\n",
       "      <td>-0.329334</td>\n",
       "    </tr>\n",
       "    <tr>\n",
       "      <th>0</th>\n",
       "      <td>-0.331370</td>\n",
       "    </tr>\n",
       "    <tr>\n",
       "      <th>1</th>\n",
       "      <td>-0.423591</td>\n",
       "    </tr>\n",
       "    <tr>\n",
       "      <th>8</th>\n",
       "      <td>-0.537144</td>\n",
       "    </tr>\n",
       "  </tbody>\n",
       "</table>\n",
       "</div>"
      ],
      "text/plain": [
       "          0\n",
       "4  0.830170\n",
       "2  0.223605\n",
       "7  0.196556\n",
       "3  0.078370\n",
       "6 -0.035173\n",
       "9 -0.303577\n",
       "5 -0.329334\n",
       "0 -0.331370\n",
       "1 -0.423591\n",
       "8 -0.537144"
      ]
     },
     "execution_count": 363,
     "metadata": {},
     "output_type": "execute_result"
    }
   ],
   "source": [
    "plt.hist(conv_correlations, bins = len(conv_correlations))\n",
    "plt.show()\n",
    "pd.DataFrame(conv_correlations).sort_values(by = 0, ascending=False)"
   ]
  },
  {
   "cell_type": "code",
   "execution_count": 364,
   "metadata": {},
   "outputs": [
    {
     "data": {
      "image/png": "[encoded data removed]",
      "text/plain": [
       "<Figure size 144x288 with 1 Axes>"
      ]
     },
     "metadata": {
      "needs_background": "light"
     },
     "output_type": "display_data"
    },
    {
     "data": {
      "image/png": "[encoded data removed]",
      "text/plain": [
       "<Figure size 144x288 with 1 Axes>"
      ]
     },
     "metadata": {
      "needs_background": "light"
     },
     "output_type": "display_data"
    }
   ],
   "source": [
    "for x in [4, 8]:\n",
    "    consortium_logo(pd.DataFrame(test.iloc[x]).T)\n",
    "    title = \"filter:\" + str(x)\n",
    "    plt.title(title)"
   ]
  },
  {
   "cell_type": "markdown",
   "metadata": {},
   "source": [
    "# Attempting to make predictions"
   ]
  },
  {
   "cell_type": "code",
   "execution_count": 365,
   "metadata": {},
   "outputs": [],
   "source": [
    "x_train, x_test, y_train, y_test = train_test_split(np.array(one_hot_encoded_data), data[\"ratefactor\"], test_size=0.15, random_state = 4)"
   ]
  },
  {
   "cell_type": "code",
   "execution_count": 366,
   "metadata": {},
   "outputs": [],
   "source": [
    "\n",
    "x_train_model_data = []\n",
    "y_train_data = []\n",
    "for x in range(len(x_train)):\n",
    "    consortium_permutations = list(permutations(x_train[x]))\n",
    "    x_train_model_data.append(consortium_permutations)\n",
    "    for y in range(720):\n",
    "        y_train_data.append(y_train.iloc[x])\n",
    "\n",
    "y_train = y_train_data\n",
    "x_train_model_data = np.array(x_train_model_data)\n",
    "\n",
    "model_predict_data_reshaped = []\n",
    "for x in range(len(x_train_model_data)):\n",
    "    for y in range(len(x_train_model_data[x])):\n",
    "        model_predict_data_reshaped.append(x_train_model_data[x][y])\n",
    "model_predict_data_reshaped = np.array(model_predict_data_reshaped)\n",
    "\n",
    "x_train = model_predict_data_reshaped\n",
    "\n",
    "\n",
    "x_test_model_data = []\n",
    "y_test_data = []\n",
    "for x in range(len(x_test)):\n",
    "    consortium_permutations = list(permutations(x_test[x]))\n",
    "    x_test_model_data.append(consortium_permutations)\n",
    "    for y in range(720):\n",
    "        y_test_data.append(y_test.iloc[x])\n",
    "\n",
    "y_test = y_test_data\n",
    "x_test_model_data = np.array(x_test_model_data)\n",
    "\n",
    "model_test_data_reshaped = []\n",
    "for x in range(len(x_test_model_data)):\n",
    "    for y in range(len(x_test_model_data[x])):\n",
    "        model_test_data_reshaped.append(x_test_model_data[x][y])\n",
    "model_test_data_reshaped = np.array(model_test_data_reshaped)\n",
    "\n",
    "x_test = model_test_data_reshaped"
   ]
  },
  {
   "cell_type": "code",
   "execution_count": 376,
   "metadata": {},
   "outputs": [
    {
     "name": "stdout",
     "output_type": "stream",
     "text": [
      "_________________________________________________________________\n",
      "Layer (type)                 Output Shape              Param #   \n",
      "=================================================================\n",
      "conv1d_26 (Conv1D)           (None, 6, 20)             380       \n",
      "_________________________________________________________________\n",
      "activation_26 (Activation)   (None, 6, 20)             0         \n",
      "_________________________________________________________________\n",
      "dropout_28 (Dropout)         (None, 6, 20)             0         \n",
      "_________________________________________________________________\n",
      "conv1d_27 (Conv1D)           (None, 6, 20)             1220      \n",
      "_________________________________________________________________\n",
      "activation_27 (Activation)   (None, 6, 20)             0         \n",
      "_________________________________________________________________\n",
      "dropout_29 (Dropout)         (None, 6, 20)             0         \n",
      "_________________________________________________________________\n",
      "conv1d_28 (Conv1D)           (None, 6, 20)             1220      \n",
      "_________________________________________________________________\n",
      "activation_28 (Activation)   (None, 6, 20)             0         \n",
      "_________________________________________________________________\n",
      "dropout_30 (Dropout)         (None, 6, 20)             0         \n",
      "_________________________________________________________________\n",
      "flatten_22 (Flatten)         (None, 120)               0         \n",
      "_________________________________________________________________\n",
      "dense_43 (Dense)             (None, 40)                4840      \n",
      "_________________________________________________________________\n",
      "dropout_31 (Dropout)         (None, 40)                0         \n",
      "_________________________________________________________________\n",
      "dense_44 (Dense)             (None, 1)                 41        \n",
      "=================================================================\n",
      "Total params: 7,701\n",
      "Trainable params: 7,701\n",
      "Non-trainable params: 0\n",
      "_________________________________________________________________\n"
     ]
    }
   ],
   "source": [
    "kernel_length=3\n",
    "conv_layers=20\n",
    "hot_dim=6\n",
    "model = Sequential()\n",
    "\n",
    "model.add(Conv1D(conv_layers, padding='same', input_shape=(x_train.shape[1], hot_dim), kernel_size=kernel_length))\n",
    "model.add(Activation('relu'))\n",
    "model.add(Dropout(0.2))\n",
    "\n",
    "model.add(Conv1D(conv_layers, padding='same', input_shape=(x_train.shape[1], 1), kernel_size=kernel_length))\n",
    "model.add(Activation('relu'))\n",
    "model.add(Dropout(0.2))\n",
    "model.add(Conv1D(conv_layers, padding='same', input_shape=(x_train.shape[1], 1), kernel_size=kernel_length))\n",
    "model.add(Activation('relu'))\n",
    "model.add(Dropout(0.2))\n",
    "\n",
    "model.add(Flatten())\n",
    "#model.add(Dense(128, activation=\"relu\"))\n",
    "#model.add(Dropout(0.2))\n",
    "model.add(Dense(40, activation=\"relu\"))\n",
    "model.add(Dropout(0.2))\n",
    "#model.add(Dense(16, activation=\"relu\"))\n",
    "model.add(Dense(1, activation='linear'))\n",
    "\n",
    "model.compile(loss='mean_squared_error', optimizer='adam',metrics=[\"accuracy\", \"mae\", \"mse\"])\n",
    "\n",
    "model.summary()"
   ]
  },
  {
   "cell_type": "code",
   "execution_count": 377,
   "metadata": {},
   "outputs": [
    {
     "name": "stdout",
     "output_type": "stream",
     "text": [
      "Train on 29988 samples, validate on 5292 samples\n",
      "Epoch 1/30\n",
      "29988/29988 [==============================] - 4s 126us/step - loss: 0.1535 - acc: 0.0530 - mean_absolute_error: 0.2635 - mean_squared_error: 0.1535 - val_loss: 0.0972 - val_acc: 0.2721 - val_mean_absolute_error: 0.2055 - val_mean_squared_error: 0.0972\n",
      "Epoch 2/30\n",
      "29988/29988 [==============================] - 3s 88us/step - loss: 0.0820 - acc: 0.0590 - mean_absolute_error: 0.1869 - mean_squared_error: 0.0820 - val_loss: 0.0911 - val_acc: 0.2721 - val_mean_absolute_error: 0.1892 - val_mean_squared_error: 0.0911\n",
      "Epoch 3/30\n",
      "29988/29988 [==============================] - 3s 88us/step - loss: 0.0559 - acc: 0.0656 - mean_absolute_error: 0.1550 - mean_squared_error: 0.0559 - val_loss: 0.0985 - val_acc: 0.2721 - val_mean_absolute_error: 0.1934 - val_mean_squared_error: 0.0985\n",
      "Epoch 4/30\n",
      "29988/29988 [==============================] - 3s 89us/step - loss: 0.0433 - acc: 0.0674 - mean_absolute_error: 0.1384 - mean_squared_error: 0.0433 - val_loss: 0.0711 - val_acc: 0.2721 - val_mean_absolute_error: 0.1782 - val_mean_squared_error: 0.0711\n",
      "Epoch 5/30\n",
      "29988/29988 [==============================] - 3s 88us/step - loss: 0.0369 - acc: 0.0688 - mean_absolute_error: 0.1290 - mean_squared_error: 0.0369 - val_loss: 0.0657 - val_acc: 0.2721 - val_mean_absolute_error: 0.1675 - val_mean_squared_error: 0.0657\n",
      "Epoch 6/30\n",
      "29988/29988 [==============================] - 3s 90us/step - loss: 0.0326 - acc: 0.0699 - mean_absolute_error: 0.1206 - mean_squared_error: 0.0326 - val_loss: 0.0730 - val_acc: 0.2721 - val_mean_absolute_error: 0.1848 - val_mean_squared_error: 0.0730\n",
      "Epoch 7/30\n",
      "29988/29988 [==============================] - 3s 89us/step - loss: 0.0301 - acc: 0.0697 - mean_absolute_error: 0.1169 - mean_squared_error: 0.0301 - val_loss: 0.0756 - val_acc: 0.2721 - val_mean_absolute_error: 0.1822 - val_mean_squared_error: 0.0756\n",
      "Epoch 8/30\n",
      "29988/29988 [==============================] - 3s 89us/step - loss: 0.0273 - acc: 0.0704 - mean_absolute_error: 0.1127 - mean_squared_error: 0.0273 - val_loss: 0.0675 - val_acc: 0.2721 - val_mean_absolute_error: 0.1737 - val_mean_squared_error: 0.0675\n"
     ]
    }
   ],
   "source": [
    "batch_size=50\n",
    "epochs=30\n",
    "\n",
    "history=model.fit(x_train, y_train, \n",
    "                  batch_size=batch_size, \n",
    "                  epochs=epochs, \n",
    "                  verbose=1, \n",
    "                  validation_split = 0.15, \n",
    "                  shuffle=True,\n",
    "                 callbacks=[EarlyStopping(patience=3 ,restore_best_weights=True),History()])"
   ]
  },
  {
   "cell_type": "code",
   "execution_count": 378,
   "metadata": {},
   "outputs": [
    {
     "data": {
      "text/plain": [
       "Text(-5.5, 0.95, 'r^2 is 0.4360458421766842')"
      ]
     },
     "execution_count": 378,
     "metadata": {},
     "output_type": "execute_result"
    },
    {
     "data": {
      "image/png": "[encoded data removed]",
      "text/plain": [
       "<Figure size 360x360 with 3 Axes>"
      ]
     },
     "metadata": {
      "needs_background": "light"
     },
     "output_type": "display_data"
    }
   ],
   "source": [
    "predictions=model.predict(x_test)\n",
    "r2 = scipy.stats.pearsonr(np.array(y_test).ravel(), predictions.ravel())[0]**2\n",
    "g = sns.jointplot(np.array(y_test).ravel(), predictions.ravel(),\n",
    "                  stat_func = None,\n",
    "                  kind = 'scatter',\n",
    "                  s = 0.5,\n",
    "                  alpha = 0.1,\n",
    "                  height = 5)\n",
    "\n",
    "g.ax_joint.set_ylabel('Predicted Rate Factor')\n",
    "g.ax_joint.set_xlabel('Measured Rate Factor')\n",
    "text=\"r^2 is \"+str(r2)\n",
    "plt.annotate(text, xy=(-5.5, 0.95), xycoords='axes fraction')"
   ]
  },
  {
   "cell_type": "code",
   "execution_count": null,
   "metadata": {},
   "outputs": [],
   "source": []
  },
  {
   "cell_type": "code",
   "execution_count": null,
   "metadata": {},
   "outputs": [],
   "source": []
  }
 ],
 "metadata": {
  "kernelspec": {
   "display_name": "Python 3",
   "language": "python",
   "name": "python3"
  },
  "language_info": {
   "codemirror_mode": {
    "name": "ipython",
    "version": 3
   },
   "file_extension": ".py",
   "mimetype": "text/x-python",
   "name": "python",
   "nbconvert_exporter": "python",
   "pygments_lexer": "ipython3",
   "version": "3.6.8"
  }
 },
 "nbformat": 4,
 "nbformat_minor": 2
}
